{
 "cells": [
  {
   "cell_type": "code",
   "execution_count": 1,
   "metadata": {},
   "outputs": [],
   "source": [
    "import re"
   ]
  },
  {
   "cell_type": "code",
   "execution_count": null,
   "metadata": {},
   "outputs": [],
   "source": [
    "# we require patterns to match string in given text\n",
    "# patterns are combination of meta characters and special sequences\n",
    "\n",
    "# meta characters \n",
    "[]   A set of characters                            \"[a-m]\"\n",
    "\\    Signals a special sequence                     \"\\d\"\n",
    ".    Any character                                  \"he..o\"\n",
    "^    Starts with                                    \"^hello\"\n",
    "$    Ends with                                      \"world$\"\n",
    "*    Zero or more occurrences                       \"aix*\"\n",
    "+    One or more occurrences                        \"aix+\"\n",
    "{}   Exactly the specified number of occurrences    \"al{2}\"\n",
    "|    Either or                                      \"falls|stays\"\n",
    "()   Capture and group\n",
    "\n",
    "# special sequences\n",
    "\\A    beginning of the string                         \"\\AThe\"\n",
    "\\b    beginning or at the end of a word               r\"\\bain\"        r\"ain\\b\"\n",
    "\\B    NOT at the beginning (or at the end) of a word  r\"\\Bain\"      r\"ain\\B\"\n",
    "\\d    numbers from 0-9                                \"\\d\"\n",
    "\\D    DOES NOT contain digits                         \"\\D\"\n",
    "\\s    white space character                           \"\\s\"\n",
    "\\S    DOES NOT contain a white space character        \"\\S\"\n",
    "\\w    any word characters                             \"\\w\"\n",
    "\\W    DOES NOT contain any word characters            \"\\W\"\n",
    "\\Z    end of the string                               \"Spain\\Z\""
   ]
  },
  {
   "cell_type": "code",
   "execution_count": 4,
   "metadata": {},
   "outputs": [
    {
     "name": "stdout",
     "output_type": "stream",
     "text": [
      "['2018', '2019']\n"
     ]
    }
   ],
   "source": [
    "# findall\n",
    "# synatx :- re.findall(pattern,text)\n",
    "txt = \"The rain in Spain in 2018 and 2019\"\n",
    "x = re.findall(\"[0-9]+\", txt) # returns list of matches pattern from the string passed \n",
    "print(x)"
   ]
  },
  {
   "cell_type": "code",
   "execution_count": 16,
   "metadata": {},
   "outputs": [
    {
     "name": "stdout",
     "output_type": "stream",
     "text": [
      "The\n"
     ]
    }
   ],
   "source": [
    "# seacrh\n",
    "# synatx :- re.search (pattern,text)\n",
    "txt = \"The rain in Spain\"\n",
    "x = re.search(\"The\", txt)  # returns a match object\n",
    "print(x.group())    # .group() will return the string"
   ]
  },
  {
   "cell_type": "code",
   "execution_count": 13,
   "metadata": {},
   "outputs": [
    {
     "name": "stdout",
     "output_type": "stream",
     "text": [
      "['The', 'rain', 'in', 'Spain']\n",
      "['The', 'rain', 'in Spain']\n"
     ]
    }
   ],
   "source": [
    "# split\n",
    "txt = \"The rain in Spain\"\n",
    "x = re.split(\"\\s\", txt)  # returns a list seperated by pattern in string\n",
    "print(x)\n",
    "# we can specify occurrence of pattern\n",
    "x = re.split(\"\\s\",txt,2)\n",
    "print(x)"
   ]
  },
  {
   "cell_type": "code",
   "execution_count": 14,
   "metadata": {},
   "outputs": [
    {
     "name": "stdout",
     "output_type": "stream",
     "text": [
      "The#rain#in#Spain\n",
      "The#rain#in Spain\n"
     ]
    }
   ],
   "source": [
    "# replace\n",
    "txt = \"The rain in Spain\"\n",
    "x=re.sub(\"\\s\",\"#\",txt) # returns a string with replaced element\n",
    "print(x)\n",
    "# we can specify occurrence of pattern\n",
    "x=re.sub(\"\\s\",\"#\",txt,2)\n",
    "print(x)"
   ]
  },
  {
   "cell_type": "code",
   "execution_count": null,
   "metadata": {},
   "outputs": [],
   "source": []
  }
 ],
 "metadata": {
  "kernelspec": {
   "display_name": "Python 3",
   "language": "python",
   "name": "python3"
  },
  "language_info": {
   "codemirror_mode": {
    "name": "ipython",
    "version": 3
   },
   "file_extension": ".py",
   "mimetype": "text/x-python",
   "name": "python",
   "nbconvert_exporter": "python",
   "pygments_lexer": "ipython3",
   "version": "3.9.0"
  }
 },
 "nbformat": 4,
 "nbformat_minor": 4
}
