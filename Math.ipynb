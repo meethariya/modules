{
 "cells": [
  {
   "cell_type": "code",
   "execution_count": 1,
   "metadata": {},
   "outputs": [],
   "source": [
    "import math"
   ]
  },
  {
   "cell_type": "code",
   "execution_count": 2,
   "metadata": {},
   "outputs": [
    {
     "name": "stdout",
     "output_type": "stream",
     "text": [
      "2\n"
     ]
    }
   ],
   "source": [
    "# ceil\n",
    "print(math.ceil(1.4))   # returns nearest upward integer"
   ]
  },
  {
   "cell_type": "code",
   "execution_count": 3,
   "metadata": {},
   "outputs": [
    {
     "name": "stdout",
     "output_type": "stream",
     "text": [
      "1\n"
     ]
    }
   ],
   "source": [
    "# floor\n",
    "print(math.floor(1.4))  # returns nearest downward integer"
   ]
  },
  {
   "cell_type": "code",
   "execution_count": 18,
   "metadata": {},
   "outputs": [
    {
     "name": "stdout",
     "output_type": "stream",
     "text": [
      "120\n",
      "720\n"
     ]
    }
   ],
   "source": [
    "# permutation and combinations\n",
    "# synatx:- math.combo(n,k)\n",
    "print(math.comb(10,3))  # returns possible combinations for nCk \n",
    "# synatx:- math.perm(n,k)\n",
    "print(math.perm(10,3))  # Returns the number of ways to choose k items from n items with order and without repetition "
   ]
  },
  {
   "cell_type": "code",
   "execution_count": 22,
   "metadata": {},
   "outputs": [
    {
     "name": "stdout",
     "output_type": "stream",
     "text": [
      "179.9087476710785\n",
      "1.5707963267948966\n"
     ]
    }
   ],
   "source": [
    "# degrees and radians\n",
    "print(math.degrees(3.14))  # returns degrees of radians passed to it\n",
    "print(math.radians(90))    # returns radians of degrees passed to it"
   ]
  },
  {
   "cell_type": "code",
   "execution_count": 8,
   "metadata": {},
   "outputs": [
    {
     "name": "stdout",
     "output_type": "stream",
     "text": [
      "-0.8390715290764524\n",
      "-0.5440211108893698\n",
      "0.6483608274590866\n"
     ]
    }
   ],
   "source": [
    "# trigonometric functions\n",
    "print(math.cos(10))\n",
    "print(math.sin(10))\n",
    "print(math.tan(10))"
   ]
  },
  {
   "cell_type": "code",
   "execution_count": 9,
   "metadata": {},
   "outputs": [
    {
     "name": "stdout",
     "output_type": "stream",
     "text": [
      "1.23\n",
      "1.0\n"
     ]
    }
   ],
   "source": [
    "# absolute value\n",
    "# returns float value\n",
    "print(math.fabs(-1.23))\n",
    "print(math.fabs(-1))"
   ]
  },
  {
   "cell_type": "code",
   "execution_count": 11,
   "metadata": {},
   "outputs": [
    {
     "name": "stdout",
     "output_type": "stream",
     "text": [
      "120\n"
     ]
    }
   ],
   "source": [
    "# factorial\n",
    "print(math.factorial(5))"
   ]
  },
  {
   "cell_type": "code",
   "execution_count": 24,
   "metadata": {},
   "outputs": [
    {
     "name": "stdout",
     "output_type": "stream",
     "text": [
      "1.0\n",
      "-1.0\n"
     ]
    }
   ],
   "source": [
    "# remainder \n",
    "# returns float value\n",
    "print(math.fmod(4,3))\n",
    "# Returns the closest value that can make numerator completely divisible by the denominator\n",
    "print(math.remainder(5,3))"
   ]
  },
  {
   "cell_type": "code",
   "execution_count": 14,
   "metadata": {},
   "outputs": [
    {
     "name": "stdout",
     "output_type": "stream",
     "text": [
      "4\n"
     ]
    }
   ],
   "source": [
    "# GCD\n",
    "print(math.gcd(12,16))"
   ]
  },
  {
   "cell_type": "code",
   "execution_count": 19,
   "metadata": {},
   "outputs": [
    {
     "name": "stdout",
     "output_type": "stream",
     "text": [
      "3.1622776601683795\n",
      "3\n",
      "8.0\n"
     ]
    }
   ],
   "source": [
    "# powers and square root\n",
    "print (math.sqrt(10))\n",
    "# rounds square root to nearest downward int\n",
    "print (math.isqrt(10))\n",
    "# .pow(x,y) returns value of x raised to power of y\n",
    "print(math.pow(2,3))"
   ]
  },
  {
   "cell_type": "code",
   "execution_count": 17,
   "metadata": {},
   "outputs": [
    {
     "name": "stdout",
     "output_type": "stream",
     "text": [
      "2.302585092994046\n",
      "1.0\n",
      "3.321928094887362\n"
     ]
    }
   ],
   "source": [
    "# log\n",
    "print(math.log(10))    # returns natural log of number\n",
    "print(math.log10(10))    # returns log to base 10 of number\n",
    "print(math.log2(10))    # returns log to base 2 of number"
   ]
  },
  {
   "cell_type": "code",
   "execution_count": 26,
   "metadata": {},
   "outputs": [
    {
     "name": "stdout",
     "output_type": "stream",
     "text": [
      "30\n",
      "14\n"
     ]
    }
   ],
   "source": [
    "print(math.prod((2,3,5))) # returns product of all elements passed\n",
    "print(math.trunc(14.237)) # Return the truncated integer parts of different numbers"
   ]
  },
  {
   "cell_type": "code",
   "execution_count": 27,
   "metadata": {},
   "outputs": [
    {
     "name": "stdout",
     "output_type": "stream",
     "text": [
      "3.141592653589793\n",
      "inf\n",
      "2.718281828459045\n"
     ]
    }
   ],
   "source": [
    "# constants\n",
    "print(math.pi)\n",
    "print(math.inf)\n",
    "print(math.e)"
   ]
  }
 ],
 "metadata": {
  "kernelspec": {
   "display_name": "Python 3",
   "language": "python",
   "name": "python3"
  },
  "language_info": {
   "codemirror_mode": {
    "name": "ipython",
    "version": 3
   },
   "file_extension": ".py",
   "mimetype": "text/x-python",
   "name": "python",
   "nbconvert_exporter": "python",
   "pygments_lexer": "ipython3",
   "version": "3.9.0"
  }
 },
 "nbformat": 4,
 "nbformat_minor": 4
}
