{
 "cells": [
  {
   "cell_type": "code",
   "execution_count": null,
   "metadata": {},
   "outputs": [],
   "source": [
    "# There are many type of built-in exceptions in python . We shall discuss many of these in this program. "
   ]
  },
  {
   "cell_type": "code",
   "execution_count": 7,
   "metadata": {},
   "outputs": [
    {
     "name": "stdout",
     "output_type": "stream",
     "text": [
      "Cant divide by 0\n"
     ]
    }
   ],
   "source": [
    "# zero division error\n",
    "try:\n",
    "    print(10/0)\n",
    "except ZeroDivisionError:\n",
    "    print(\"Cant divide by 0\")"
   ]
  },
  {
   "cell_type": "code",
   "execution_count": 8,
   "metadata": {},
   "outputs": [
    {
     "name": "stdout",
     "output_type": "stream",
     "text": [
      "String has no attribute append\n"
     ]
    }
   ],
   "source": [
    "# attribute error\n",
    "try:\n",
    "    print(\"text\".append(1))\n",
    "except AttributeError:\n",
    "    print(\"String has no attribute append\")"
   ]
  },
  {
   "cell_type": "code",
   "execution_count": 9,
   "metadata": {},
   "outputs": [
    {
     "name": "stdout",
     "output_type": "stream",
     "text": [
      "no such module\n"
     ]
    }
   ],
   "source": [
    "# import error\n",
    "try:\n",
    "    from math import nothing\n",
    "except ImportError:\n",
    "    print(\"no such module\")"
   ]
  },
  {
   "cell_type": "code",
   "execution_count": 10,
   "metadata": {},
   "outputs": [
    {
     "name": "stdout",
     "output_type": "stream",
     "text": [
      "Index out of range\n"
     ]
    }
   ],
   "source": [
    "# index error\n",
    "try:\n",
    "    print([1,2,3][4])\n",
    "except IndexError:\n",
    "    print(\"Index out of range\")"
   ]
  },
  {
   "cell_type": "code",
   "execution_count": 11,
   "metadata": {},
   "outputs": [
    {
     "name": "stdout",
     "output_type": "stream",
     "text": [
      "No such key\n"
     ]
    }
   ],
   "source": [
    "# key error\n",
    "try:\n",
    "    dictio={}\n",
    "    print(dictio[\"something\"])\n",
    "except KeyError:\n",
    "    print(\"No such key\")"
   ]
  },
  {
   "cell_type": "code",
   "execution_count": 14,
   "metadata": {},
   "outputs": [
    {
     "name": "stdout",
     "output_type": "stream",
     "text": [
      "No such varible\n"
     ]
    }
   ],
   "source": [
    "# Name Error\n",
    "try:\n",
    "    print(x)\n",
    "except NameError:\n",
    "    print(\"No such varible\")"
   ]
  },
  {
   "cell_type": "code",
   "execution_count": 15,
   "metadata": {},
   "outputs": [
    {
     "name": "stdout",
     "output_type": "stream",
     "text": [
      "variable initiaized after usage\n"
     ]
    }
   ],
   "source": [
    "# unbound local error\n",
    "someVar = 42\n",
    "def myFunction():\n",
    "    try:\n",
    "        print(someVar)\n",
    "        someVar = 100\n",
    "    except UnboundLocalError:\n",
    "        print(\"variable initiaized after usage\")\n",
    "myFunction()"
   ]
  },
  {
   "cell_type": "code",
   "execution_count": 19,
   "metadata": {},
   "outputs": [
    {
     "name": "stdout",
     "output_type": "stream",
     "text": [
      "No such file\n"
     ]
    }
   ],
   "source": [
    "# File Not Found Error\n",
    "try:\n",
    "    with open(\"Nofile.txt\",'r'):\n",
    "        pass\n",
    "except FileNotFoundError:\n",
    "    print(\"No such file\")"
   ]
  },
  {
   "cell_type": "code",
   "execution_count": 25,
   "metadata": {},
   "outputs": [
    {
     "name": "stdout",
     "output_type": "stream",
     "text": [
      "cant join string with int\n"
     ]
    }
   ],
   "source": [
    "# type error\n",
    "try:\n",
    "    print(\"\".join(1))\n",
    "except TypeError:\n",
    "    print(\"cant join string with int\")"
   ]
  },
  {
   "cell_type": "code",
   "execution_count": 27,
   "metadata": {},
   "outputs": [
    {
     "name": "stdout",
     "output_type": "stream",
     "text": [
      "unmatched values unpacked\n"
     ]
    }
   ],
   "source": [
    "# value error\n",
    "try:\n",
    "    a,b={}\n",
    "except ValueError:\n",
    "    print(\"unmatched values unpacked\")"
   ]
  },
  {
   "cell_type": "code",
   "execution_count": null,
   "metadata": {},
   "outputs": [],
   "source": [
    "# we can manually raise our own exception . Such exceptions are known as custom exceptions"
   ]
  },
  {
   "cell_type": "code",
   "execution_count": 29,
   "metadata": {},
   "outputs": [
    {
     "name": "stdout",
     "output_type": "stream",
     "text": [
      "This is an odd number\n",
      "This is an even number\n"
     ]
    }
   ],
   "source": [
    "class OddValue(Exception):\n",
    "    def __init__(self,message):\n",
    "        self.message=message\n",
    "class EvenValue(Exception):\n",
    "    def __init__(self):\n",
    "        self.message=\"This is an even number\"\n",
    "\n",
    "number = [5,10]\n",
    "for i in number:\n",
    "    try:\n",
    "        if i%2==0:\n",
    "            raise EvenValue\n",
    "        else:\n",
    "            raise OddValue(\"This is an odd number\")\n",
    "    except (EvenValue,OddValue) as err:\n",
    "        print(err.message)"
   ]
  },
  {
   "cell_type": "code",
   "execution_count": null,
   "metadata": {},
   "outputs": [],
   "source": []
  }
 ],
 "metadata": {
  "kernelspec": {
   "display_name": "Python 3",
   "language": "python",
   "name": "python3"
  },
  "language_info": {
   "codemirror_mode": {
    "name": "ipython",
    "version": 3
   },
   "file_extension": ".py",
   "mimetype": "text/x-python",
   "name": "python",
   "nbconvert_exporter": "python",
   "pygments_lexer": "ipython3",
   "version": "3.9.0"
  }
 },
 "nbformat": 4,
 "nbformat_minor": 4
}
